{
  "nbformat": 4,
  "nbformat_minor": 0,
  "metadata": {
    "colab": {
      "provenance": [],
      "collapsed_sections": []
    },
    "kernelspec": {
      "name": "python3",
      "display_name": "Python 3"
    },
    "language_info": {
      "name": "python"
    }
  },
  "cells": [
    {
      "cell_type": "markdown",
      "source": [
        "## Breast Cancer Predictor using Nueral Network\n",
        "\n",
        "[Dataset](https://www.kaggle.com/datasets/uciml/breast-cancer-wisconsin-data)\n",
        "\n",
        "[Google Colab Notebook](https://colab.research.google.com/drive/10dN0a8IpMxkdqEO70lQWoCithaD4jOHl)\n",
        "\n",
        "[Github](https://github.com/z5208980/machine-learning-health/tree/main/breast_cancer)\n",
        " \n",
        "In 2022, breast cancer affects 1 in 7 women and 1 in 155 men in Australia. Though there is no specific cause of breast cancer, the risk of having breast cancer depends on natural occurs such as family history, age, and gene, however it is said that smoking and alcohol can have an affect. Breast cancer often affects older aged women, typically over 50. It occurs when cells in the breast grow at an abnormal path and form a tumour. Treatment is available such as sugery, or radiotherapy.\n",
        "\n",
        "The target column in the dataset will be `Diagnosis` which as an output of either M (malignant) or B (benign). Both are characteristic of being lump near the breast. **Malignant** cells are ever growing compared to Benign cells and is a form of breast cancer that results in abnormal cell growth Comparing it to **Benign** cells, the benign cells are non-cancerous and are not life threatening but still gives a breast a lumpy texture.\n",
        "\n",
        "The remaining data (features) of the dataset will be measurements of the cells nucleous. This can be collected via pathology request or biopsy where a sample of tissue is collected. In the case of this dataset, the \"features are computed from digitalised image of a breast mass\". *I would assume theses are the cells of the tumour from breast screening of the lumps in the breast*. These features include,\n",
        "<details>\n",
        "  <summary>List of features (33)</summary>\n",
        "  - radius_mean\n",
        "  - texture_mean\n",
        "  - perimeter_mean\n",
        "  - area_mean\n",
        "  - smoothness_mean\n",
        "  - compactness_mean\n",
        "  - concavity_mean\n",
        "  - concave points_mean\n",
        "  - symmetry_mean\n",
        "  - fractal_dimension_mean\n",
        "  - radius_se\n",
        "  - texture_se\n",
        "  - perimeter_se\n",
        "  - area_se\n",
        "  - smoothness_se\n",
        "  - compactness_se\n",
        "  - concavity_se\n",
        "  - concave points_se\n",
        "  - symmetry_se\n",
        "  - fractal_dimension_se\n",
        "  - radius_worst\n",
        "  - texture_worst\n",
        "  - perimeter_worst\n",
        "  - area_worst\n",
        "  - smoothness_worst\n",
        "  - compactness_worst\n",
        "  - concavity_worst\n",
        "  - concave points_worst\n",
        "  - symmetry_worst\n",
        "  - fractal_dimension_worst\n",
        "<details>"
      ],
      "metadata": {
        "id": "F564izRFrkUC"
      }
    },
    {
      "cell_type": "code",
      "execution_count": 34,
      "metadata": {
        "id": "P96RFzXErb2K"
      },
      "outputs": [],
      "source": [
        "import numpy as np\n",
        "import pandas as pd\n",
        "import pickle\n",
        "\n",
        "import matplotlib.pyplot as plt\n",
        "from sklearn.preprocessing import LabelEncoder, StandardScaler\n",
        "from sklearn.model_selection import train_test_split\n",
        "import tensorflow as tf \n",
        "from tensorflow import keras\n",
        "\n",
        "import warnings\n",
        "warnings.filterwarnings('ignore')"
      ]
    },
    {
      "cell_type": "code",
      "source": [
        "# Loading and seeking the data\n",
        "\n",
        "# Load dataset\n",
        "df = pd.read_csv('https://raw.githubusercontent.com/z5208980/machine-learning-health/main/breast_cancer/data/data.csv')\n",
        "\n",
        "print(f\"There have {df.shape[0]} rows with {df.shape[1]} columns including targets\")\n",
        "\n",
        "# Seek the dataset\n",
        "df.head(5)"
      ],
      "metadata": {
        "colab": {
          "base_uri": "https://localhost:8080/",
          "height": 334
        },
        "id": "nyjP6XSLry_c",
        "outputId": "4b50d650-d3ca-4676-ecf2-946b999c9e7d"
      },
      "execution_count": 46,
      "outputs": [
        {
          "output_type": "stream",
          "name": "stdout",
          "text": [
            "There have 569 rows with 33 columns including targets\n"
          ]
        },
        {
          "output_type": "execute_result",
          "data": {
            "text/plain": [
              "         id diagnosis  radius_mean  texture_mean  perimeter_mean  area_mean  \\\n",
              "0    842302         M        17.99         10.38          122.80     1001.0   \n",
              "1    842517         M        20.57         17.77          132.90     1326.0   \n",
              "2  84300903         M        19.69         21.25          130.00     1203.0   \n",
              "3  84348301         M        11.42         20.38           77.58      386.1   \n",
              "4  84358402         M        20.29         14.34          135.10     1297.0   \n",
              "\n",
              "   smoothness_mean  compactness_mean  concavity_mean  concave points_mean  \\\n",
              "0          0.11840           0.27760          0.3001              0.14710   \n",
              "1          0.08474           0.07864          0.0869              0.07017   \n",
              "2          0.10960           0.15990          0.1974              0.12790   \n",
              "3          0.14250           0.28390          0.2414              0.10520   \n",
              "4          0.10030           0.13280          0.1980              0.10430   \n",
              "\n",
              "   ...  texture_worst  perimeter_worst  area_worst  smoothness_worst  \\\n",
              "0  ...          17.33           184.60      2019.0            0.1622   \n",
              "1  ...          23.41           158.80      1956.0            0.1238   \n",
              "2  ...          25.53           152.50      1709.0            0.1444   \n",
              "3  ...          26.50            98.87       567.7            0.2098   \n",
              "4  ...          16.67           152.20      1575.0            0.1374   \n",
              "\n",
              "   compactness_worst  concavity_worst  concave points_worst  symmetry_worst  \\\n",
              "0             0.6656           0.7119                0.2654          0.4601   \n",
              "1             0.1866           0.2416                0.1860          0.2750   \n",
              "2             0.4245           0.4504                0.2430          0.3613   \n",
              "3             0.8663           0.6869                0.2575          0.6638   \n",
              "4             0.2050           0.4000                0.1625          0.2364   \n",
              "\n",
              "   fractal_dimension_worst  Unnamed: 32  \n",
              "0                  0.11890          NaN  \n",
              "1                  0.08902          NaN  \n",
              "2                  0.08758          NaN  \n",
              "3                  0.17300          NaN  \n",
              "4                  0.07678          NaN  \n",
              "\n",
              "[5 rows x 33 columns]"
            ],
            "text/html": [
              "\n",
              "  <div id=\"df-523e3297-85db-4508-b04a-7706c49ca024\">\n",
              "    <div class=\"colab-df-container\">\n",
              "      <div>\n",
              "<style scoped>\n",
              "    .dataframe tbody tr th:only-of-type {\n",
              "        vertical-align: middle;\n",
              "    }\n",
              "\n",
              "    .dataframe tbody tr th {\n",
              "        vertical-align: top;\n",
              "    }\n",
              "\n",
              "    .dataframe thead th {\n",
              "        text-align: right;\n",
              "    }\n",
              "</style>\n",
              "<table border=\"1\" class=\"dataframe\">\n",
              "  <thead>\n",
              "    <tr style=\"text-align: right;\">\n",
              "      <th></th>\n",
              "      <th>id</th>\n",
              "      <th>diagnosis</th>\n",
              "      <th>radius_mean</th>\n",
              "      <th>texture_mean</th>\n",
              "      <th>perimeter_mean</th>\n",
              "      <th>area_mean</th>\n",
              "      <th>smoothness_mean</th>\n",
              "      <th>compactness_mean</th>\n",
              "      <th>concavity_mean</th>\n",
              "      <th>concave points_mean</th>\n",
              "      <th>...</th>\n",
              "      <th>texture_worst</th>\n",
              "      <th>perimeter_worst</th>\n",
              "      <th>area_worst</th>\n",
              "      <th>smoothness_worst</th>\n",
              "      <th>compactness_worst</th>\n",
              "      <th>concavity_worst</th>\n",
              "      <th>concave points_worst</th>\n",
              "      <th>symmetry_worst</th>\n",
              "      <th>fractal_dimension_worst</th>\n",
              "      <th>Unnamed: 32</th>\n",
              "    </tr>\n",
              "  </thead>\n",
              "  <tbody>\n",
              "    <tr>\n",
              "      <th>0</th>\n",
              "      <td>842302</td>\n",
              "      <td>M</td>\n",
              "      <td>17.99</td>\n",
              "      <td>10.38</td>\n",
              "      <td>122.80</td>\n",
              "      <td>1001.0</td>\n",
              "      <td>0.11840</td>\n",
              "      <td>0.27760</td>\n",
              "      <td>0.3001</td>\n",
              "      <td>0.14710</td>\n",
              "      <td>...</td>\n",
              "      <td>17.33</td>\n",
              "      <td>184.60</td>\n",
              "      <td>2019.0</td>\n",
              "      <td>0.1622</td>\n",
              "      <td>0.6656</td>\n",
              "      <td>0.7119</td>\n",
              "      <td>0.2654</td>\n",
              "      <td>0.4601</td>\n",
              "      <td>0.11890</td>\n",
              "      <td>NaN</td>\n",
              "    </tr>\n",
              "    <tr>\n",
              "      <th>1</th>\n",
              "      <td>842517</td>\n",
              "      <td>M</td>\n",
              "      <td>20.57</td>\n",
              "      <td>17.77</td>\n",
              "      <td>132.90</td>\n",
              "      <td>1326.0</td>\n",
              "      <td>0.08474</td>\n",
              "      <td>0.07864</td>\n",
              "      <td>0.0869</td>\n",
              "      <td>0.07017</td>\n",
              "      <td>...</td>\n",
              "      <td>23.41</td>\n",
              "      <td>158.80</td>\n",
              "      <td>1956.0</td>\n",
              "      <td>0.1238</td>\n",
              "      <td>0.1866</td>\n",
              "      <td>0.2416</td>\n",
              "      <td>0.1860</td>\n",
              "      <td>0.2750</td>\n",
              "      <td>0.08902</td>\n",
              "      <td>NaN</td>\n",
              "    </tr>\n",
              "    <tr>\n",
              "      <th>2</th>\n",
              "      <td>84300903</td>\n",
              "      <td>M</td>\n",
              "      <td>19.69</td>\n",
              "      <td>21.25</td>\n",
              "      <td>130.00</td>\n",
              "      <td>1203.0</td>\n",
              "      <td>0.10960</td>\n",
              "      <td>0.15990</td>\n",
              "      <td>0.1974</td>\n",
              "      <td>0.12790</td>\n",
              "      <td>...</td>\n",
              "      <td>25.53</td>\n",
              "      <td>152.50</td>\n",
              "      <td>1709.0</td>\n",
              "      <td>0.1444</td>\n",
              "      <td>0.4245</td>\n",
              "      <td>0.4504</td>\n",
              "      <td>0.2430</td>\n",
              "      <td>0.3613</td>\n",
              "      <td>0.08758</td>\n",
              "      <td>NaN</td>\n",
              "    </tr>\n",
              "    <tr>\n",
              "      <th>3</th>\n",
              "      <td>84348301</td>\n",
              "      <td>M</td>\n",
              "      <td>11.42</td>\n",
              "      <td>20.38</td>\n",
              "      <td>77.58</td>\n",
              "      <td>386.1</td>\n",
              "      <td>0.14250</td>\n",
              "      <td>0.28390</td>\n",
              "      <td>0.2414</td>\n",
              "      <td>0.10520</td>\n",
              "      <td>...</td>\n",
              "      <td>26.50</td>\n",
              "      <td>98.87</td>\n",
              "      <td>567.7</td>\n",
              "      <td>0.2098</td>\n",
              "      <td>0.8663</td>\n",
              "      <td>0.6869</td>\n",
              "      <td>0.2575</td>\n",
              "      <td>0.6638</td>\n",
              "      <td>0.17300</td>\n",
              "      <td>NaN</td>\n",
              "    </tr>\n",
              "    <tr>\n",
              "      <th>4</th>\n",
              "      <td>84358402</td>\n",
              "      <td>M</td>\n",
              "      <td>20.29</td>\n",
              "      <td>14.34</td>\n",
              "      <td>135.10</td>\n",
              "      <td>1297.0</td>\n",
              "      <td>0.10030</td>\n",
              "      <td>0.13280</td>\n",
              "      <td>0.1980</td>\n",
              "      <td>0.10430</td>\n",
              "      <td>...</td>\n",
              "      <td>16.67</td>\n",
              "      <td>152.20</td>\n",
              "      <td>1575.0</td>\n",
              "      <td>0.1374</td>\n",
              "      <td>0.2050</td>\n",
              "      <td>0.4000</td>\n",
              "      <td>0.1625</td>\n",
              "      <td>0.2364</td>\n",
              "      <td>0.07678</td>\n",
              "      <td>NaN</td>\n",
              "    </tr>\n",
              "  </tbody>\n",
              "</table>\n",
              "<p>5 rows × 33 columns</p>\n",
              "</div>\n",
              "      <button class=\"colab-df-convert\" onclick=\"convertToInteractive('df-523e3297-85db-4508-b04a-7706c49ca024')\"\n",
              "              title=\"Convert this dataframe to an interactive table.\"\n",
              "              style=\"display:none;\">\n",
              "        \n",
              "  <svg xmlns=\"http://www.w3.org/2000/svg\" height=\"24px\"viewBox=\"0 0 24 24\"\n",
              "       width=\"24px\">\n",
              "    <path d=\"M0 0h24v24H0V0z\" fill=\"none\"/>\n",
              "    <path d=\"M18.56 5.44l.94 2.06.94-2.06 2.06-.94-2.06-.94-.94-2.06-.94 2.06-2.06.94zm-11 1L8.5 8.5l.94-2.06 2.06-.94-2.06-.94L8.5 2.5l-.94 2.06-2.06.94zm10 10l.94 2.06.94-2.06 2.06-.94-2.06-.94-.94-2.06-.94 2.06-2.06.94z\"/><path d=\"M17.41 7.96l-1.37-1.37c-.4-.4-.92-.59-1.43-.59-.52 0-1.04.2-1.43.59L10.3 9.45l-7.72 7.72c-.78.78-.78 2.05 0 2.83L4 21.41c.39.39.9.59 1.41.59.51 0 1.02-.2 1.41-.59l7.78-7.78 2.81-2.81c.8-.78.8-2.07 0-2.86zM5.41 20L4 18.59l7.72-7.72 1.47 1.35L5.41 20z\"/>\n",
              "  </svg>\n",
              "      </button>\n",
              "      \n",
              "  <style>\n",
              "    .colab-df-container {\n",
              "      display:flex;\n",
              "      flex-wrap:wrap;\n",
              "      gap: 12px;\n",
              "    }\n",
              "\n",
              "    .colab-df-convert {\n",
              "      background-color: #E8F0FE;\n",
              "      border: none;\n",
              "      border-radius: 50%;\n",
              "      cursor: pointer;\n",
              "      display: none;\n",
              "      fill: #1967D2;\n",
              "      height: 32px;\n",
              "      padding: 0 0 0 0;\n",
              "      width: 32px;\n",
              "    }\n",
              "\n",
              "    .colab-df-convert:hover {\n",
              "      background-color: #E2EBFA;\n",
              "      box-shadow: 0px 1px 2px rgba(60, 64, 67, 0.3), 0px 1px 3px 1px rgba(60, 64, 67, 0.15);\n",
              "      fill: #174EA6;\n",
              "    }\n",
              "\n",
              "    [theme=dark] .colab-df-convert {\n",
              "      background-color: #3B4455;\n",
              "      fill: #D2E3FC;\n",
              "    }\n",
              "\n",
              "    [theme=dark] .colab-df-convert:hover {\n",
              "      background-color: #434B5C;\n",
              "      box-shadow: 0px 1px 3px 1px rgba(0, 0, 0, 0.15);\n",
              "      filter: drop-shadow(0px 1px 2px rgba(0, 0, 0, 0.3));\n",
              "      fill: #FFFFFF;\n",
              "    }\n",
              "  </style>\n",
              "\n",
              "      <script>\n",
              "        const buttonEl =\n",
              "          document.querySelector('#df-523e3297-85db-4508-b04a-7706c49ca024 button.colab-df-convert');\n",
              "        buttonEl.style.display =\n",
              "          google.colab.kernel.accessAllowed ? 'block' : 'none';\n",
              "\n",
              "        async function convertToInteractive(key) {\n",
              "          const element = document.querySelector('#df-523e3297-85db-4508-b04a-7706c49ca024');\n",
              "          const dataTable =\n",
              "            await google.colab.kernel.invokeFunction('convertToInteractive',\n",
              "                                                     [key], {});\n",
              "          if (!dataTable) return;\n",
              "\n",
              "          const docLinkHtml = 'Like what you see? Visit the ' +\n",
              "            '<a target=\"_blank\" href=https://colab.research.google.com/notebooks/data_table.ipynb>data table notebook</a>'\n",
              "            + ' to learn more about interactive tables.';\n",
              "          element.innerHTML = '';\n",
              "          dataTable['output_type'] = 'display_data';\n",
              "          await google.colab.output.renderOutput(dataTable, element);\n",
              "          const docLink = document.createElement('div');\n",
              "          docLink.innerHTML = docLinkHtml;\n",
              "          element.appendChild(docLink);\n",
              "        }\n",
              "      </script>\n",
              "    </div>\n",
              "  </div>\n",
              "  "
            ]
          },
          "metadata": {},
          "execution_count": 46
        }
      ]
    },
    {
      "cell_type": "code",
      "source": [
        "# Processing the data\n",
        " \n",
        "# Remove uneccessary features\n",
        "df.drop(columns=['Unnamed: 32', 'id'], axis = 1, inplace=True)\n",
        "\n",
        "# breast_cancer_data.isnull().sum() # This dataset has no nan values\n",
        "\n",
        "# Encode the target, which converts Benign -> 0, Malignant -> 1\n",
        "encoder = LabelEncoder()\n",
        "df['diagnosis'] = encoder.fit_transform(df['diagnosis'])\n",
        "\n",
        "# Save\n",
        "filename = '/content/sample_data/processed.csv'\n",
        "df.to_csv(filename, index=False)"
      ],
      "metadata": {
        "id": "Sd3T_3jPvUT1"
      },
      "execution_count": 44,
      "outputs": []
    },
    {
      "cell_type": "code",
      "source": [
        "X = df.drop(columns='diagnosis', axis=1)\n",
        "y = df['diagnosis']"
      ],
      "metadata": {
        "id": "E4_N1XnsvUZ4"
      },
      "execution_count": 37,
      "outputs": []
    },
    {
      "cell_type": "code",
      "source": [
        "X_train, X_test, y_train, y_test = train_test_split(X, y, test_size=0.25, random_state=200)\n",
        "\n",
        "scaler = StandardScaler() # Use StandardScaler if postprocessing \n",
        "X_train = scaler.fit_transform(X_train)\n",
        "X_test = scaler.transform(X_test)"
      ],
      "metadata": {
        "id": "nP8YO10xxKvf"
      },
      "execution_count": 38,
      "outputs": []
    },
    {
      "cell_type": "markdown",
      "source": [
        "The choosen model use is **Keras Neural Network** which yields a 94% accurancy in training and testing. The model uses an Adam optimiser will the lost function of cross entropy.\n",
        "\n",
        "## Using the model\n",
        "\n",
        "As mention to use the model, it requires a list of syptoms given in `severity.csv`. To validate if the inputs are valid, the in process of checking if the symptoms exist in the columns and if the input list length if between 1 and 17."
      ],
      "metadata": {
        "id": "KK7W6TPzyAnL"
      }
    },
    {
      "cell_type": "code",
      "source": [
        "tf.random.set_seed(200)\n",
        "\n",
        "# Layout node: 30 -> 20 -> 2\n",
        "model = keras.Sequential([\n",
        "  keras.layers.Flatten(input_shape=(30,)),\n",
        "  keras.layers.Dense(20, activation='relu'),\n",
        "  keras.layers.Dense(2, activation='sigmoid')\n",
        "])\n",
        "\n",
        "model.compile(optimizer='adam',\n",
        "  loss='sparse_categorical_crossentropy',\n",
        "  metrics=['accuracy'])\n",
        "\n",
        "history = model.fit(X_train, y_train, validation_split=0.1, epochs=10)\n",
        "\n",
        "print('RESULT')\n",
        "loss, accuracy =  model.evaluate(X_test, y_test)\n",
        "print('Accuracy:', accuracy)\n",
        "\n",
        "# Save model\n",
        "filename = '/content/sample_data/model.h5'\n",
        "model.save(filename)"
      ],
      "metadata": {
        "colab": {
          "base_uri": "https://localhost:8080/"
        },
        "id": "v-cbChKxvUcE",
        "outputId": "44f636fe-7bb4-48ba-edf2-dd402a10fee7"
      },
      "execution_count": 39,
      "outputs": [
        {
          "output_type": "stream",
          "name": "stdout",
          "text": [
            "Epoch 1/10\n",
            "12/12 [==============================] - 1s 16ms/step - loss: 1.0875 - accuracy: 0.5875 - val_loss: 0.7569 - val_accuracy: 0.6047\n",
            "Epoch 2/10\n",
            "12/12 [==============================] - 0s 4ms/step - loss: 0.7877 - accuracy: 0.6057 - val_loss: 0.5678 - val_accuracy: 0.6512\n",
            "Epoch 3/10\n",
            "12/12 [==============================] - 0s 4ms/step - loss: 0.5747 - accuracy: 0.6527 - val_loss: 0.4465 - val_accuracy: 0.6977\n",
            "Epoch 4/10\n",
            "12/12 [==============================] - 0s 4ms/step - loss: 0.4350 - accuracy: 0.7363 - val_loss: 0.3663 - val_accuracy: 0.8140\n",
            "Epoch 5/10\n",
            "12/12 [==============================] - 0s 4ms/step - loss: 0.3435 - accuracy: 0.8198 - val_loss: 0.3106 - val_accuracy: 0.8605\n",
            "Epoch 6/10\n",
            "12/12 [==============================] - 0s 4ms/step - loss: 0.2847 - accuracy: 0.8747 - val_loss: 0.2715 - val_accuracy: 0.9070\n",
            "Epoch 7/10\n",
            "12/12 [==============================] - 0s 4ms/step - loss: 0.2460 - accuracy: 0.9008 - val_loss: 0.2427 - val_accuracy: 0.9535\n",
            "Epoch 8/10\n",
            "12/12 [==============================] - 0s 4ms/step - loss: 0.2178 - accuracy: 0.9112 - val_loss: 0.2206 - val_accuracy: 0.9535\n",
            "Epoch 9/10\n",
            "12/12 [==============================] - 0s 6ms/step - loss: 0.1973 - accuracy: 0.9269 - val_loss: 0.2023 - val_accuracy: 0.9535\n",
            "Epoch 10/10\n",
            "12/12 [==============================] - 0s 6ms/step - loss: 0.1803 - accuracy: 0.9295 - val_loss: 0.1877 - val_accuracy: 0.9535\n",
            "RESULT\n",
            "5/5 [==============================] - 0s 3ms/step - loss: 0.1977 - accuracy: 0.9441\n",
            "Accuracy: 0.9440559148788452\n"
          ]
        }
      ]
    },
    {
      "cell_type": "code",
      "source": [
        "plt.plot(history.history['accuracy'])\n",
        "plt.plot(history.history['val_accuracy'])\n",
        "\n",
        "plt.title('model accuracy')\n",
        "plt.ylabel('accuracy')\n",
        "plt.xlabel('epoch')\n",
        "\n",
        "plt.legend(['training data', 'validation data'], loc = 'lower right')"
      ],
      "metadata": {
        "colab": {
          "base_uri": "https://localhost:8080/",
          "height": 312
        },
        "id": "AztlCywUxgeh",
        "outputId": "29886e49-fbd9-41a3-e34c-d1f05227606c"
      },
      "execution_count": 40,
      "outputs": [
        {
          "output_type": "execute_result",
          "data": {
            "text/plain": [
              "<matplotlib.legend.Legend at 0x7ff70d8dc450>"
            ]
          },
          "metadata": {},
          "execution_count": 40
        },
        {
          "output_type": "display_data",
          "data": {
            "text/plain": [
              "<Figure size 432x288 with 1 Axes>"
            ],
            "image/png": "[encoded data removed]"
          },
          "metadata": {
            "needs_background": "light"
          }
        }
      ]
    },
    {
      "cell_type": "code",
      "source": [
        "plt.plot(history.history['loss'])\n",
        "plt.plot(history.history['val_loss'])\n",
        "\n",
        "plt.title('model loss')\n",
        "plt.ylabel('loss')\n",
        "plt.xlabel('epoch')\n",
        "\n",
        "plt.legend(['training data', 'validation data'], loc = 'upper right')"
      ],
      "metadata": {
        "colab": {
          "base_uri": "https://localhost:8080/",
          "height": 312
        },
        "id": "QrTXb0KP0gdI",
        "outputId": "75b597a0-e811-483a-90f4-ce11781de1ab"
      },
      "execution_count": 41,
      "outputs": [
        {
          "output_type": "execute_result",
          "data": {
            "text/plain": [
              "<matplotlib.legend.Legend at 0x7ff70d8465d0>"
            ]
          },
          "metadata": {},
          "execution_count": 41
        },
        {
          "output_type": "display_data",
          "data": {
            "text/plain": [
              "<Figure size 432x288 with 1 Axes>"
            ],
            "image/png": "[encoded data removed]"
          },
          "metadata": {
            "needs_background": "light"
          }
        }
      ]
    },
    {
      "cell_type": "code",
      "source": [
        "model = keras.models.load_model('/content/sample_data/model.h5')\n",
        "\n",
        "input = [11.76,21.6,74.72,427.9,0.08637,\n",
        "  0.04966,0.01657,0.01115,0.1495,\n",
        "  0.05888,0.4062,1.21,2.635,28.47,\n",
        "  0.005857,0.009758,0.01168,0.007445,\n",
        "  0.02406,0.001769,12.98,25.72,82.98,\n",
        "  516.5,0.1085,0.08615,0.05523,0.03715,\n",
        "  0.2433,0.06563]\n",
        "\n",
        "input = np.asarray(input)\n",
        "input = input.reshape(1,-1)\n",
        "\n",
        "input = scaler.transform(input)\n",
        "\n",
        "# This is confidence of each label. Eg. [[0.6898223  0.00158861]] means\n",
        "# 0 -> the model predict 68% it is Malignant\n",
        "# 1 -> the model predicted 0.1% it is Benign\n",
        "output_labels = model.predict(input)\n",
        "print(output_labels)\n",
        "\n",
        "output = [np.argmax(output_labels)]\n",
        "print(f\"Predicted: {output[0]}\")"
      ],
      "metadata": {
        "colab": {
          "base_uri": "https://localhost:8080/"
        },
        "id": "iIgWZ6tWyhJo",
        "outputId": "9a94775c-232c-42b7-ceb5-1f0e0e212c15"
      },
      "execution_count": 42,
      "outputs": [
        {
          "output_type": "stream",
          "name": "stdout",
          "text": [
            "[[0.4339753  0.01058587]]\n",
            "Predicted: 0\n"
          ]
        }
      ]
    }
  ]
}