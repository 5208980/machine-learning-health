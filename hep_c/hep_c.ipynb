{
  "nbformat": 4,
  "nbformat_minor": 0,
  "metadata": {
    "colab": {
      "name": "hep_c.ipynb",
      "provenance": [],
      "collapsed_sections": []
    },
    "kernelspec": {
      "name": "python3",
      "display_name": "Python 3"
    },
    "language_info": {
      "name": "python"
    }
  },
  "cells": [
    {
      "cell_type": "markdown",
      "source": [
        "## Mental Data KNN ML\n",
        "\n",
        "[Colab NoteBook](https://colab.research.google.com/drive/1qT7Gd1duB4HdDdSGsHbByIjNF3GYyVe3)\n",
        "\n",
        "[Github for full](https://github.com/z5208980/machine-learning-health/tree/main/hep_c/) (dataset, model, notebook)\n",
        "\n",
        "[Dataset Source](https://www.kaggle.com/datasets/fedesoriano/hepatitis-c-dataset)\n"
      ],
      "metadata": {
        "id": "ezyPJykS-_QF"
      }
    },
    {
      "cell_type": "code",
      "execution_count": 51,
      "metadata": {
        "id": "sOwARQOuqX0a"
      },
      "outputs": [],
      "source": [
        "import numpy as np\n",
        "import pandas as pd\n",
        "import pickle\n",
        "\n",
        "from sklearn.model_selection import train_test_split\n",
        "from sklearn.preprocessing import binarize, LabelEncoder, MinMaxScaler, StandardScaler\n",
        "from sklearn import metrics\n",
        "from sklearn.metrics import accuracy_score, mean_squared_error, precision_recall_curve\n",
        "from sklearn.model_selection import cross_val_score\n",
        "from sklearn.neighbors import KNeighborsClassifier\n",
        "from sklearn.ensemble import RandomForestClassifier\n",
        "from sklearn.ensemble import GradientBoostingClassifier\n",
        "from sklearn.linear_model import LogisticRegression\n"
      ]
    },
    {
      "cell_type": "code",
      "source": [
        "df = pd.read_csv('https://raw.githubusercontent.com/z5208980/machine-learning-health/main/hep_c/data/raw.csv')\n",
        "df.drop(\"Unnamed: 0\", axis=1, inplace=True) # Drop index\n",
        "\n",
        "df[\"Category\"] = df[\"Category\"].str.replace(\".+=\", '', regex=True)\n",
        "df[\"Category\"] = df[\"Category\"].str.title()\n",
        "\n",
        "# Encode m and f to ints\n",
        "encoder = LabelEncoder()\n",
        "encoder.fit(df[\"Sex\"])\n",
        "df[\"Sex\"] = encoder.transform(df[\"Sex\"])\n",
        "\n",
        "# Fill in missing data\n",
        "df.fillna(df.median(), inplace=True)  # Not sure if appriopate for medical values\n",
        "# df.fillna(0, inplace=True)\n",
        "df.head()\n",
        "\n",
        "# Save\n",
        "# filename = '/content/sample_data/processed.csv'\n",
        "# df.to_csv(filename, index=False)"
      ],
      "metadata": {
        "id": "QKO5oHHlt6RH",
        "colab": {
          "base_uri": "https://localhost:8080/",
          "height": 261
        },
        "outputId": "bbec09bb-8583-4e46-8945-239f557899ee"
      },
      "execution_count": 52,
      "outputs": [
        {
          "output_type": "stream",
          "name": "stderr",
          "text": [
            "/usr/local/lib/python3.7/dist-packages/ipykernel_launcher.py:13: FutureWarning: Dropping of nuisance columns in DataFrame reductions (with 'numeric_only=None') is deprecated; in a future version this will raise TypeError.  Select only valid columns before calling the reduction.\n",
            "  del sys.path[0]\n"
          ]
        },
        {
          "output_type": "execute_result",
          "data": {
            "text/plain": [
              "      Category  Age  Sex   ALB   ALP   ALT   AST   BIL    CHE  CHOL   CREA  \\\n",
              "0  Blood Donor   32    1  38.5  52.5   7.7  22.1   7.5   6.93  3.23  106.0   \n",
              "1  Blood Donor   32    1  38.5  70.3  18.0  24.7   3.9  11.17  4.80   74.0   \n",
              "2  Blood Donor   32    1  46.9  74.7  36.2  52.6   6.1   8.84  5.20   86.0   \n",
              "3  Blood Donor   32    1  43.2  52.0  30.6  22.6  18.9   7.33  4.74   80.0   \n",
              "4  Blood Donor   32    1  39.2  74.1  32.6  24.8   9.6   9.15  4.32   76.0   \n",
              "\n",
              "    GGT  PROT  \n",
              "0  12.1  69.0  \n",
              "1  15.6  76.5  \n",
              "2  33.2  79.3  \n",
              "3  33.8  75.7  \n",
              "4  29.9  68.7  "
            ],
            "text/html": [
              "\n",
              "  <div id=\"df-f97d0b86-e5f7-4e30-bb79-3b6416432428\">\n",
              "    <div class=\"colab-df-container\">\n",
              "      <div>\n",
              "<style scoped>\n",
              "    .dataframe tbody tr th:only-of-type {\n",
              "        vertical-align: middle;\n",
              "    }\n",
              "\n",
              "    .dataframe tbody tr th {\n",
              "        vertical-align: top;\n",
              "    }\n",
              "\n",
              "    .dataframe thead th {\n",
              "        text-align: right;\n",
              "    }\n",
              "</style>\n",
              "<table border=\"1\" class=\"dataframe\">\n",
              "  <thead>\n",
              "    <tr style=\"text-align: right;\">\n",
              "      <th></th>\n",
              "      <th>Category</th>\n",
              "      <th>Age</th>\n",
              "      <th>Sex</th>\n",
              "      <th>ALB</th>\n",
              "      <th>ALP</th>\n",
              "      <th>ALT</th>\n",
              "      <th>AST</th>\n",
              "      <th>BIL</th>\n",
              "      <th>CHE</th>\n",
              "      <th>CHOL</th>\n",
              "      <th>CREA</th>\n",
              "      <th>GGT</th>\n",
              "      <th>PROT</th>\n",
              "    </tr>\n",
              "  </thead>\n",
              "  <tbody>\n",
              "    <tr>\n",
              "      <th>0</th>\n",
              "      <td>Blood Donor</td>\n",
              "      <td>32</td>\n",
              "      <td>1</td>\n",
              "      <td>38.5</td>\n",
              "      <td>52.5</td>\n",
              "      <td>7.7</td>\n",
              "      <td>22.1</td>\n",
              "      <td>7.5</td>\n",
              "      <td>6.93</td>\n",
              "      <td>3.23</td>\n",
              "      <td>106.0</td>\n",
              "      <td>12.1</td>\n",
              "      <td>69.0</td>\n",
              "    </tr>\n",
              "    <tr>\n",
              "      <th>1</th>\n",
              "      <td>Blood Donor</td>\n",
              "      <td>32</td>\n",
              "      <td>1</td>\n",
              "      <td>38.5</td>\n",
              "      <td>70.3</td>\n",
              "      <td>18.0</td>\n",
              "      <td>24.7</td>\n",
              "      <td>3.9</td>\n",
              "      <td>11.17</td>\n",
              "      <td>4.80</td>\n",
              "      <td>74.0</td>\n",
              "      <td>15.6</td>\n",
              "      <td>76.5</td>\n",
              "    </tr>\n",
              "    <tr>\n",
              "      <th>2</th>\n",
              "      <td>Blood Donor</td>\n",
              "      <td>32</td>\n",
              "      <td>1</td>\n",
              "      <td>46.9</td>\n",
              "      <td>74.7</td>\n",
              "      <td>36.2</td>\n",
              "      <td>52.6</td>\n",
              "      <td>6.1</td>\n",
              "      <td>8.84</td>\n",
              "      <td>5.20</td>\n",
              "      <td>86.0</td>\n",
              "      <td>33.2</td>\n",
              "      <td>79.3</td>\n",
              "    </tr>\n",
              "    <tr>\n",
              "      <th>3</th>\n",
              "      <td>Blood Donor</td>\n",
              "      <td>32</td>\n",
              "      <td>1</td>\n",
              "      <td>43.2</td>\n",
              "      <td>52.0</td>\n",
              "      <td>30.6</td>\n",
              "      <td>22.6</td>\n",
              "      <td>18.9</td>\n",
              "      <td>7.33</td>\n",
              "      <td>4.74</td>\n",
              "      <td>80.0</td>\n",
              "      <td>33.8</td>\n",
              "      <td>75.7</td>\n",
              "    </tr>\n",
              "    <tr>\n",
              "      <th>4</th>\n",
              "      <td>Blood Donor</td>\n",
              "      <td>32</td>\n",
              "      <td>1</td>\n",
              "      <td>39.2</td>\n",
              "      <td>74.1</td>\n",
              "      <td>32.6</td>\n",
              "      <td>24.8</td>\n",
              "      <td>9.6</td>\n",
              "      <td>9.15</td>\n",
              "      <td>4.32</td>\n",
              "      <td>76.0</td>\n",
              "      <td>29.9</td>\n",
              "      <td>68.7</td>\n",
              "    </tr>\n",
              "  </tbody>\n",
              "</table>\n",
              "</div>\n",
              "      <button class=\"colab-df-convert\" onclick=\"convertToInteractive('df-f97d0b86-e5f7-4e30-bb79-3b6416432428')\"\n",
              "              title=\"Convert this dataframe to an interactive table.\"\n",
              "              style=\"display:none;\">\n",
              "        \n",
              "  <svg xmlns=\"http://www.w3.org/2000/svg\" height=\"24px\"viewBox=\"0 0 24 24\"\n",
              "       width=\"24px\">\n",
              "    <path d=\"M0 0h24v24H0V0z\" fill=\"none\"/>\n",
              "    <path d=\"M18.56 5.44l.94 2.06.94-2.06 2.06-.94-2.06-.94-.94-2.06-.94 2.06-2.06.94zm-11 1L8.5 8.5l.94-2.06 2.06-.94-2.06-.94L8.5 2.5l-.94 2.06-2.06.94zm10 10l.94 2.06.94-2.06 2.06-.94-2.06-.94-.94-2.06-.94 2.06-2.06.94z\"/><path d=\"M17.41 7.96l-1.37-1.37c-.4-.4-.92-.59-1.43-.59-.52 0-1.04.2-1.43.59L10.3 9.45l-7.72 7.72c-.78.78-.78 2.05 0 2.83L4 21.41c.39.39.9.59 1.41.59.51 0 1.02-.2 1.41-.59l7.78-7.78 2.81-2.81c.8-.78.8-2.07 0-2.86zM5.41 20L4 18.59l7.72-7.72 1.47 1.35L5.41 20z\"/>\n",
              "  </svg>\n",
              "      </button>\n",
              "      \n",
              "  <style>\n",
              "    .colab-df-container {\n",
              "      display:flex;\n",
              "      flex-wrap:wrap;\n",
              "      gap: 12px;\n",
              "    }\n",
              "\n",
              "    .colab-df-convert {\n",
              "      background-color: #E8F0FE;\n",
              "      border: none;\n",
              "      border-radius: 50%;\n",
              "      cursor: pointer;\n",
              "      display: none;\n",
              "      fill: #1967D2;\n",
              "      height: 32px;\n",
              "      padding: 0 0 0 0;\n",
              "      width: 32px;\n",
              "    }\n",
              "\n",
              "    .colab-df-convert:hover {\n",
              "      background-color: #E2EBFA;\n",
              "      box-shadow: 0px 1px 2px rgba(60, 64, 67, 0.3), 0px 1px 3px 1px rgba(60, 64, 67, 0.15);\n",
              "      fill: #174EA6;\n",
              "    }\n",
              "\n",
              "    [theme=dark] .colab-df-convert {\n",
              "      background-color: #3B4455;\n",
              "      fill: #D2E3FC;\n",
              "    }\n",
              "\n",
              "    [theme=dark] .colab-df-convert:hover {\n",
              "      background-color: #434B5C;\n",
              "      box-shadow: 0px 1px 3px 1px rgba(0, 0, 0, 0.15);\n",
              "      filter: drop-shadow(0px 1px 2px rgba(0, 0, 0, 0.3));\n",
              "      fill: #FFFFFF;\n",
              "    }\n",
              "  </style>\n",
              "\n",
              "      <script>\n",
              "        const buttonEl =\n",
              "          document.querySelector('#df-f97d0b86-e5f7-4e30-bb79-3b6416432428 button.colab-df-convert');\n",
              "        buttonEl.style.display =\n",
              "          google.colab.kernel.accessAllowed ? 'block' : 'none';\n",
              "\n",
              "        async function convertToInteractive(key) {\n",
              "          const element = document.querySelector('#df-f97d0b86-e5f7-4e30-bb79-3b6416432428');\n",
              "          const dataTable =\n",
              "            await google.colab.kernel.invokeFunction('convertToInteractive',\n",
              "                                                     [key], {});\n",
              "          if (!dataTable) return;\n",
              "\n",
              "          const docLinkHtml = 'Like what you see? Visit the ' +\n",
              "            '<a target=\"_blank\" href=https://colab.research.google.com/notebooks/data_table.ipynb>data table notebook</a>'\n",
              "            + ' to learn more about interactive tables.';\n",
              "          element.innerHTML = '';\n",
              "          dataTable['output_type'] = 'display_data';\n",
              "          await google.colab.output.renderOutput(dataTable, element);\n",
              "          const docLink = document.createElement('div');\n",
              "          docLink.innerHTML = docLinkHtml;\n",
              "          element.appendChild(docLink);\n",
              "        }\n",
              "      </script>\n",
              "    </div>\n",
              "  </div>\n",
              "  "
            ]
          },
          "metadata": {},
          "execution_count": 52
        }
      ]
    },
    {
      "cell_type": "code",
      "source": [
        "y = df.Category\n",
        "X = df.drop('Category', axis=1)\n"
      ],
      "metadata": {
        "id": "-CRcRntUwFCS"
      },
      "execution_count": 53,
      "outputs": []
    },
    {
      "cell_type": "code",
      "source": [
        "X_train, X_test, y_train, y_test = train_test_split(X, y, test_size=0.25, random_state=200)\n",
        "\n",
        "scaler = StandardScaler() # Use StandardScaler if postprocessing \n",
        "X_train = scaler.fit_transform(X_train)\n",
        "X_test = scaler.transform(X_test)"
      ],
      "metadata": {
        "id": "QnzeCdKJvu8M"
      },
      "execution_count": 54,
      "outputs": []
    },
    {
      "cell_type": "code",
      "source": [
        "def LR():\n",
        "  model = LogisticRegression()\n",
        "  model.fit(X_train, y_train)\n",
        "\n",
        "\n",
        "  y_pred_class = model.predict(X_test)\n",
        "\n",
        "  print('RESULT')\n",
        "  print('Accuracy:', metrics.accuracy_score(y_test, y_pred_class))\n",
        "\n",
        "  filename = '/content/sample_data/model.sav'\n",
        "  pickle.dump(model, open(filename, 'wb'))\n",
        "\n",
        "def RFC():\n",
        "  model = RandomForestClassifier()\n",
        "  model.fit(X_train, y_train)\n",
        "\n",
        "  y_pred_class = model.predict(X_test)\n",
        "\n",
        "  print('RESULT')\n",
        "  print('Accuracy:', metrics.accuracy_score(y_test, y_pred_class))\n",
        "\n",
        "  filename = '/content/sample_data/model.sav'\n",
        "  pickle.dump(model, open(filename, 'wb'))\n",
        "\n",
        "def GBC():\n",
        "  model = GradientBoostingClassifier()\n",
        "  model.fit(X_train, y_train)\n",
        "\n",
        "  accuracy_score(model)\n",
        "\n",
        "def accuracy_score(model):\n",
        "  y_pred_class = model.predict(X_test)\n",
        "\n",
        "  print('RESULT')\n",
        "  print('Accuracy:', metrics.accuracy_score(y_test, y_pred_class))\n",
        "\n",
        "  filename = '/content/sample_data/model.sav'\n",
        "  pickle.dump(model, open(filename, 'wb'))\n",
        "\n",
        "\n",
        "LR()"
      ],
      "metadata": {
        "colab": {
          "base_uri": "https://localhost:8080/"
        },
        "id": "Hnc6Ojxc213-",
        "outputId": "ed7a1bd6-3052-4dfb-d9f1-88c70dcc5e3f"
      },
      "execution_count": 55,
      "outputs": [
        {
          "output_type": "stream",
          "name": "stdout",
          "text": [
            "RESULT\n",
            "Accuracy: 0.922077922077922\n"
          ]
        }
      ]
    },
    {
      "cell_type": "markdown",
      "source": [
        "## Input"
      ],
      "metadata": {
        "id": "sgzbdfpZUwRE"
      }
    },
    {
      "cell_type": "code",
      "source": [
        "metadata = {\n",
        "    \"Age\": { \"description\": \"Age\" },\n",
        "    \"Sex\": { \"description\": \"Gender (M|F)\" },\n",
        "    \"ALB\": { \"description\": \"Albumin (protein produced by liver)\" },\n",
        "    \"ALP\": { \"description\": \"Alkaline Phosphatase (Blood test of ALP enzyme in blood)\" },\n",
        "    \"ALT\": { \"description\": \"Alanine Transaminase (Blood test of ALT enzyme in blood)\" },\n",
        "    \"AST\": { \"description\": \"Aspartate Aminotransferase (Blood test of AST enzyme in blood)\" },\n",
        "    \"BIL\": { \"description\": \"Bilirubin\" },\n",
        "    \"CHE\": { \"description\": \"Acetylcholinesterase (Blood test)\" },\n",
        "    \"CHOL\": { \"description\": \"Cholesterol\" },\n",
        "    \"CREA\": { \"description\": \"Creatinine\" },\n",
        "    \"GGT\": { \"description\": \"Gamma-Glutamyl Transferase\" },\n",
        "    \"PROT\": { \"description\": \"Protein\" },\n",
        "}\n",
        "for feature in X:\n",
        "  print(metadata[feature][\"description\"])"
      ],
      "metadata": {
        "colab": {
          "base_uri": "https://localhost:8080/"
        },
        "id": "54XDbzjdUwZa",
        "outputId": "c7d94585-ce5e-40eb-bb4b-3d49f6414901"
      },
      "execution_count": 56,
      "outputs": [
        {
          "output_type": "stream",
          "name": "stdout",
          "text": [
            "Age\n",
            "Gender (M|F)\n",
            "Albumin (protein produced by liver)\n",
            "Alkaline Phosphatase (Blood test of ALP enzyme in blood)\n",
            "Alanine Transaminase (Blood test of ALT enzyme in blood)\n",
            "Aspartate Aminotransferase (Blood test of AST enzyme in blood)\n",
            "Bilirubin\n",
            "Acetylcholinesterase (Blood test)\n",
            "Cholesterol\n",
            "Creatinine\n",
            "Gamma-Glutamyl Transferase\n",
            "Protein\n"
          ]
        }
      ]
    },
    {
      "cell_type": "markdown",
      "source": [
        "## Possible Outcomes"
      ],
      "metadata": {
        "id": "3hfQ-2b7SyLN"
      }
    },
    {
      "cell_type": "code",
      "source": [
        "for target in df['Category'].unique():\n",
        "  print(target)"
      ],
      "metadata": {
        "colab": {
          "base_uri": "https://localhost:8080/"
        },
        "id": "qW8P2Wr7Sxlk",
        "outputId": "f7f72f6f-2249-404f-eec5-7568a1540a37"
      },
      "execution_count": 57,
      "outputs": [
        {
          "output_type": "stream",
          "name": "stdout",
          "text": [
            "Blood Donor\n",
            "Suspect Blood Donor\n",
            "Hepatitis\n",
            "Fibrosis\n",
            "Cirrhosis\n"
          ]
        }
      ]
    },
    {
      "cell_type": "markdown",
      "source": [
        "## DEMO\n",
        "\n",
        "[Model](#)"
      ],
      "metadata": {
        "id": "sx8ImkhY2_7E"
      }
    },
    {
      "cell_type": "code",
      "source": [
        "model = pickle.load(open('/content/sample_data/model.sav', 'rb'))   # load model\n",
        "\n",
        "val = []\n",
        "row = 200\n",
        "for x in X_train[row]:\n",
        "  val.append(x)\n",
        "\n",
        "input = [val]\n",
        "output = model.predict(input)\n",
        "\n",
        "print(\"X=%s, Predicted=%s, Actually=%s\" % (input[0], output[0], y_train.iloc[row]))"
      ],
      "metadata": {
        "colab": {
          "base_uri": "https://localhost:8080/"
        },
        "id": "aO87eyJV2-TU",
        "outputId": "adfbf730-ca62-4346-f60c-938b940c1062"
      },
      "execution_count": 58,
      "outputs": [
        {
          "output_type": "stream",
          "name": "stdout",
          "text": [
            "X=[-0.7052232780919925, 0.8040078180145834, -0.045733332806742175, -0.03147139495730363, 1.1785683229506227, 0.05812158875788527, -0.2219969538910292, -1.8083413098012011, 0.6218495773044013, -0.12303655751846336, 0.933390836209473, 0.07987049747609182], Predicted=Blood Donor, Actually=Blood Donor\n"
          ]
        }
      ]
    }
  ]
}