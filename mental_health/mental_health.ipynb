{
  "nbformat": 4,
  "nbformat_minor": 0,
  "metadata": {
    "colab": {
      "name": "mental-health.ipynb",
      "provenance": [],
      "collapsed_sections": []
    },
    "kernelspec": {
      "name": "python3",
      "display_name": "Python 3"
    },
    "language_info": {
      "name": "python"
    }
  },
  "cells": [
    {
      "cell_type": "markdown",
      "source": [
        "## Mental Data KNN ML\n",
        "\n",
        "[Colab NoteBook](https://colab.research.google.com/drive/1Xwi9BtigmWb3NScq2QeDlX0ARBTlo1fC?usp=sharing)\n",
        "\n",
        "[Github for full](https://github.com/z5208980/machine-learning-health/tree/main/mental_health) (dataset, model, notebook)"
      ],
      "metadata": {
        "id": "ezyPJykS-_QF"
      }
    },
    {
      "cell_type": "code",
      "execution_count": 107,
      "metadata": {
        "id": "sOwARQOuqX0a"
      },
      "outputs": [],
      "source": [
        "import numpy as np\n",
        "import pandas as pd\n",
        "import pickle\n",
        "\n",
        "from sklearn.model_selection import train_test_split\n",
        "from sklearn.preprocessing import MinMaxScaler\n",
        "from sklearn import metrics\n",
        "from sklearn.metrics import accuracy_score, mean_squared_error, precision_recall_curve\n",
        "from sklearn.model_selection import cross_val_score\n",
        "from sklearn.neighbors import KNeighborsClassifier\n",
        "\n",
        "train_df = pd.read_csv('https://raw.githubusercontent.com/z5208980/machine-learning-health/main/mental_health/data/processed.csv')\n",
        "# train_df.info()"
      ]
    },
    {
      "cell_type": "code",
      "source": [
        "df = pd.read_csv('https://raw.githubusercontent.com/z5208980/machine-learning-health/main/mental_health/data/processed.csv')\n",
        "\n",
        "# improved from ~89 to ~95\n",
        "scaler = MinMaxScaler()\n",
        "df['Age'] = scaler.fit_transform(df[['Age']])"
      ],
      "metadata": {
        "id": "QKO5oHHlt6RH"
      },
      "execution_count": 108,
      "outputs": []
    },
    {
      "cell_type": "code",
      "source": [
        "feature_cols = ['Age', 'Gender', 'family_history', 'treatment', 'work_interfere', 'tech_company', 'seek_help', 'leave', 'mental_health_interview', 'phys_health_interview']\n",
        "X = df[feature_cols]\n",
        "y = df.treatment\n",
        "\n",
        "X_train, X_test, y_train, y_test = train_test_split(X, y, test_size=0.25, random_state=200)"
      ],
      "metadata": {
        "id": "PrmlVLx33cEi"
      },
      "execution_count": 109,
      "outputs": []
    },
    {
      "cell_type": "code",
      "source": [
        "def Knn():\n",
        "    model = KNeighborsClassifier(n_neighbors=3, weights='distance')\n",
        "    model.fit(X_train, y_train)\n",
        "    \n",
        "    y_pred_class = model.predict(X_test)\n",
        "\n",
        "    print('RESULT')\n",
        "    print('Accuracy:', metrics.accuracy_score(y_test, y_pred_class))\n",
        "    print('Precision:', metrics.precision_score(y_test, y_pred_class))\n",
        "    print('AUC Score:', metrics.roc_auc_score(y_test, y_pred_class))\n",
        "    print('Cross-validated AUC:', cross_val_score(model, X, y, cv=10, scoring='roc_auc').mean())\n",
        "\n",
        "    filename = '/content/sample_data/model.sav'\n",
        "    pickle.dump(model, open(filename, 'wb'))\n",
        "\n",
        "Knn()"
      ],
      "metadata": {
        "colab": {
          "base_uri": "https://localhost:8080/"
        },
        "id": "Hnc6Ojxc213-",
        "outputId": "4421e4dc-63d5-4b6c-9302-d5853f1491fb"
      },
      "execution_count": 110,
      "outputs": [
        {
          "output_type": "stream",
          "name": "stdout",
          "text": [
            "RESULT\n",
            "Accuracy: 0.9714285714285714\n",
            "Precision: 0.9743589743589743\n",
            "AUC Score: 0.9714182052729178\n",
            "Cross-validated AUC: 0.990626165153935\n"
          ]
        }
      ]
    },
    {
      "cell_type": "markdown",
      "source": [
        "\n",
        "Using Knn (KNeighborsClassifier)\n",
        "- Score:  0.9714285714285714\n",
        "- Params:  `{'weights': 'distance', 'n_neighbors': 3}`\n",
        "\n",
        "\n"
      ],
      "metadata": {
        "id": "jd0dk3NFqYqQ"
      }
    },
    {
      "cell_type": "markdown",
      "source": [
        "## DEMO\n",
        "\n",
        "KNN model can be found here [Github](https://github.com/z5208980/machine-learning-health/blob/main/mental_health/model.sav\n",
        ")\n",
        "\n",
        "Input values requires\n",
        "- Age\n",
        "- Gender\n",
        "- family_history\n",
        "- treatment\n",
        "- work_interfere\n",
        "- tech_company\n",
        "- seek_help\n",
        "- leave\n",
        "- mental_health_interview\n",
        "- phys_health_interview"
      ],
      "metadata": {
        "id": "sx8ImkhY2_7E"
      }
    },
    {
      "cell_type": "code",
      "source": [
        "model = pickle.load(open('/content/sample_data/model.sav', 'rb'))   # load model\n",
        "\n",
        "# ['Age', 'Gender', 'family_history', 'treatment', 'work_interfere', 'tech_company', 'seek_help', 'leave', 'mental_health_interview', 'phys_health_interview']\n",
        "val = []\n",
        "row = 70\n",
        "for x in X_train.iloc[row]:\n",
        "  val.append(x)\n",
        "\n",
        "input = [val]\n",
        "output = model.predict(input)\n",
        "\n",
        "print(\"X=%s, Predicted=%s, Actually=%s\" % (input[0], output[0], y_train.iloc[row]))"
      ],
      "metadata": {
        "colab": {
          "base_uri": "https://localhost:8080/"
        },
        "id": "aO87eyJV2-TU",
        "outputId": "563c0698-26ae-4f4e-b456-ebd6cfb42580"
      },
      "execution_count": 111,
      "outputs": [
        {
          "output_type": "stream",
          "name": "stdout",
          "text": [
            "X=[0.36363636363636365, 1.0, 0.0, 0.0, 1.0, 1.0, 1.0, 4.0, 1.0, 0.0], Predicted=0, Actually=0\n"
          ]
        },
        {
          "output_type": "stream",
          "name": "stderr",
          "text": [
            "/usr/local/lib/python3.7/dist-packages/sklearn/base.py:451: UserWarning: X does not have valid feature names, but KNeighborsClassifier was fitted with feature names\n",
            "  \"X does not have valid feature names, but\"\n"
          ]
        }
      ]
    }
  ]
}